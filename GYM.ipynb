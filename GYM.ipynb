{
 "cells": [
  {
   "cell_type": "code",
   "execution_count": 1,
   "metadata": {},
   "outputs": [],
   "source": [
    "import seaborn as sns\n",
    "import pandas as pd\n",
    "import numpy as np\n",
    "import sklearn "
   ]
  },
  {
   "cell_type": "code",
   "execution_count": 2,
   "metadata": {},
   "outputs": [
    {
     "data": {
      "text/html": [
       "<div>\n",
       "<style scoped>\n",
       "    .dataframe tbody tr th:only-of-type {\n",
       "        vertical-align: middle;\n",
       "    }\n",
       "\n",
       "    .dataframe tbody tr th {\n",
       "        vertical-align: top;\n",
       "    }\n",
       "\n",
       "    .dataframe thead th {\n",
       "        text-align: right;\n",
       "    }\n",
       "</style>\n",
       "<table border=\"1\" class=\"dataframe\">\n",
       "  <thead>\n",
       "    <tr style=\"text-align: right;\">\n",
       "      <th></th>\n",
       "      <th>Age</th>\n",
       "      <th>Height</th>\n",
       "      <th>weight</th>\n",
       "      <th>BMI</th>\n",
       "      <th>Class</th>\n",
       "      <th>Prediction</th>\n",
       "    </tr>\n",
       "  </thead>\n",
       "  <tbody>\n",
       "    <tr>\n",
       "      <th>0</th>\n",
       "      <td>48</td>\n",
       "      <td>4.1</td>\n",
       "      <td>86</td>\n",
       "      <td>40</td>\n",
       "      <td>Extremely obese</td>\n",
       "      <td>Extremely obese--normal exercise+yoga+heavy di...</td>\n",
       "    </tr>\n",
       "    <tr>\n",
       "      <th>1</th>\n",
       "      <td>53</td>\n",
       "      <td>4.1</td>\n",
       "      <td>91</td>\n",
       "      <td>42</td>\n",
       "      <td>Extremely obese</td>\n",
       "      <td>Extremely obese--normal exercise+yoga+heavy di...</td>\n",
       "    </tr>\n",
       "    <tr>\n",
       "      <th>2</th>\n",
       "      <td>42</td>\n",
       "      <td>4.1</td>\n",
       "      <td>95</td>\n",
       "      <td>44</td>\n",
       "      <td>Extremely obese</td>\n",
       "      <td>Extremely obese--normal exercise+yoga+heavy di...</td>\n",
       "    </tr>\n",
       "    <tr>\n",
       "      <th>3</th>\n",
       "      <td>48</td>\n",
       "      <td>4.1</td>\n",
       "      <td>100</td>\n",
       "      <td>46</td>\n",
       "      <td>Extremely obese</td>\n",
       "      <td>Extremely obese--normal exercise+yoga+heavy di...</td>\n",
       "    </tr>\n",
       "    <tr>\n",
       "      <th>4</th>\n",
       "      <td>22</td>\n",
       "      <td>4.1</td>\n",
       "      <td>104</td>\n",
       "      <td>48</td>\n",
       "      <td>Extremely obese</td>\n",
       "      <td>Extremely obese--normal exercise+yoga+heavy di...</td>\n",
       "    </tr>\n",
       "    <tr>\n",
       "      <th>...</th>\n",
       "      <td>...</td>\n",
       "      <td>...</td>\n",
       "      <td>...</td>\n",
       "      <td>...</td>\n",
       "      <td>...</td>\n",
       "      <td>...</td>\n",
       "    </tr>\n",
       "    <tr>\n",
       "      <th>1171</th>\n",
       "      <td>50</td>\n",
       "      <td>6.9</td>\n",
       "      <td>59</td>\n",
       "      <td>14</td>\n",
       "      <td>Under weight</td>\n",
       "      <td>Under weight--protines+carbs+normal weights -&gt;...</td>\n",
       "    </tr>\n",
       "    <tr>\n",
       "      <th>1172</th>\n",
       "      <td>49</td>\n",
       "      <td>6.9</td>\n",
       "      <td>64</td>\n",
       "      <td>15</td>\n",
       "      <td>Under weight</td>\n",
       "      <td>Under weight--protines+carbs+normal weights -&gt;...</td>\n",
       "    </tr>\n",
       "    <tr>\n",
       "      <th>1173</th>\n",
       "      <td>52</td>\n",
       "      <td>6.9</td>\n",
       "      <td>68</td>\n",
       "      <td>16</td>\n",
       "      <td>Under weight</td>\n",
       "      <td>Under weight--protines+carbs+normal weights -&gt;...</td>\n",
       "    </tr>\n",
       "    <tr>\n",
       "      <th>1174</th>\n",
       "      <td>36</td>\n",
       "      <td>6.9</td>\n",
       "      <td>73</td>\n",
       "      <td>17</td>\n",
       "      <td>Under weight</td>\n",
       "      <td>Under weight--protines+carbs+normal weights -&gt;...</td>\n",
       "    </tr>\n",
       "    <tr>\n",
       "      <th>1175</th>\n",
       "      <td>26</td>\n",
       "      <td>6.9</td>\n",
       "      <td>77</td>\n",
       "      <td>18</td>\n",
       "      <td>Under weight</td>\n",
       "      <td>Under weight--protines+carbs+normal weights -&gt;...</td>\n",
       "    </tr>\n",
       "  </tbody>\n",
       "</table>\n",
       "<p>1176 rows × 6 columns</p>\n",
       "</div>"
      ],
      "text/plain": [
       "      Age  Height  weight  BMI            Class  \\\n",
       "0      48     4.1      86   40  Extremely obese   \n",
       "1      53     4.1      91   42  Extremely obese   \n",
       "2      42     4.1      95   44  Extremely obese   \n",
       "3      48     4.1     100   46  Extremely obese   \n",
       "4      22     4.1     104   48  Extremely obese   \n",
       "...   ...     ...     ...  ...              ...   \n",
       "1171   50     6.9      59   14     Under weight   \n",
       "1172   49     6.9      64   15     Under weight   \n",
       "1173   52     6.9      68   16     Under weight   \n",
       "1174   36     6.9      73   17     Under weight   \n",
       "1175   26     6.9      77   18     Under weight   \n",
       "\n",
       "                                             Prediction  \n",
       "0     Extremely obese--normal exercise+yoga+heavy di...  \n",
       "1     Extremely obese--normal exercise+yoga+heavy di...  \n",
       "2     Extremely obese--normal exercise+yoga+heavy di...  \n",
       "3     Extremely obese--normal exercise+yoga+heavy di...  \n",
       "4     Extremely obese--normal exercise+yoga+heavy di...  \n",
       "...                                                 ...  \n",
       "1171  Under weight--protines+carbs+normal weights ->...  \n",
       "1172  Under weight--protines+carbs+normal weights ->...  \n",
       "1173  Under weight--protines+carbs+normal weights ->...  \n",
       "1174  Under weight--protines+carbs+normal weights ->...  \n",
       "1175  Under weight--protines+carbs+normal weights ->...  \n",
       "\n",
       "[1176 rows x 6 columns]"
      ]
     },
     "execution_count": 2,
     "metadata": {},
     "output_type": "execute_result"
    }
   ],
   "source": [
    "df = pd.read_excel(r'C:/Users/Ali/Downloads/dataGYM.xlsx')\n",
    "df"
   ]
  },
  {
   "cell_type": "code",
   "execution_count": 3,
   "metadata": {},
   "outputs": [
    {
     "name": "stdout",
     "output_type": "stream",
     "text": [
      "<class 'pandas.core.frame.DataFrame'>\n",
      "RangeIndex: 1176 entries, 0 to 1175\n",
      "Data columns (total 6 columns):\n",
      " #   Column      Non-Null Count  Dtype  \n",
      "---  ------      --------------  -----  \n",
      " 0   Age         1176 non-null   int64  \n",
      " 1   Height      1176 non-null   float64\n",
      " 2   weight      1176 non-null   int64  \n",
      " 3   BMI         1176 non-null   int64  \n",
      " 4   Class       1176 non-null   object \n",
      " 5   Prediction  1176 non-null   object \n",
      "dtypes: float64(1), int64(3), object(2)\n",
      "memory usage: 55.2+ KB\n"
     ]
    }
   ],
   "source": [
    "import matplotlib.pyplot as plt\n",
    "df.info()"
   ]
  },
  {
   "cell_type": "code",
   "execution_count": 4,
   "metadata": {},
   "outputs": [],
   "source": [
    "def univariate_analysis(i):\n",
    "    print(i.describe())\n",
    "    fig, axes = plt.subplots(1,3, figsize= (16,5))\n",
    "    print(axes)\n",
    "    sns.distplot(i, ax=axes[0])\n",
    "    b = 5\n",
    "    x = pd.cut(i, bins=b ,labels= np.arange(b) )\n",
    "    plt.hist(x , axes= axes[2])\n",
    "    sns.boxplot(i , ax=axes[1])\n"
   ]
  },
  {
   "cell_type": "code",
   "execution_count": null,
   "metadata": {},
   "outputs": [],
   "source": []
  },
  {
   "cell_type": "code",
   "execution_count": 5,
   "metadata": {},
   "outputs": [
    {
     "name": "stdout",
     "output_type": "stream",
     "text": [
      "count    1176.000000\n",
      "mean       39.827381\n",
      "std        11.912659\n",
      "min        20.000000\n",
      "25%        29.000000\n",
      "50%        40.000000\n",
      "75%        50.000000\n",
      "max        60.000000\n",
      "Name: Age, dtype: float64\n",
      "[<matplotlib.axes._subplots.AxesSubplot object at 0x000001DCB2156490>\n",
      " <matplotlib.axes._subplots.AxesSubplot object at 0x000001DCB283AA30>\n",
      " <matplotlib.axes._subplots.AxesSubplot object at 0x000001DCB285CBB0>]\n"
     ]
    },
    {
     "data": {
      "image/png": "[encoded data removed]",
      "text/plain": [
       "<Figure size 1152x360 with 3 Axes>"
      ]
     },
     "metadata": {
      "needs_background": "light"
     },
     "output_type": "display_data"
    }
   ],
   "source": [
    "univariate_analysis(df['Age'])"
   ]
  },
  {
   "cell_type": "code",
   "execution_count": 6,
   "metadata": {},
   "outputs": [
    {
     "name": "stdout",
     "output_type": "stream",
     "text": [
      "count    1176.000000\n",
      "mean        5.690017\n",
      "std         0.743953\n",
      "min         4.100000\n",
      "25%         5.107500\n",
      "50%         5.750000\n",
      "75%         6.225000\n",
      "max         6.900000\n",
      "Name: Height, dtype: float64\n",
      "[<matplotlib.axes._subplots.AxesSubplot object at 0x000001DCB2B01E20>\n",
      " <matplotlib.axes._subplots.AxesSubplot object at 0x000001DCB2B474F0>\n",
      " <matplotlib.axes._subplots.AxesSubplot object at 0x000001DCB2CA2910>]\n"
     ]
    },
    {
     "data": {
      "image/png": "[encoded data removed]",
      "text/plain": [
       "<Figure size 1152x360 with 3 Axes>"
      ]
     },
     "metadata": {
      "needs_background": "light"
     },
     "output_type": "display_data"
    }
   ],
   "source": [
    "univariate_analysis(df['Height'])"
   ]
  },
  {
   "cell_type": "code",
   "execution_count": 7,
   "metadata": {},
   "outputs": [
    {
     "name": "stdout",
     "output_type": "stream",
     "text": [
      "count    1176.000000\n",
      "mean       86.190476\n",
      "std        27.466612\n",
      "min        41.000000\n",
      "25%        64.000000\n",
      "50%        86.000000\n",
      "75%       109.000000\n",
      "max       132.000000\n",
      "Name: weight, dtype: float64\n",
      "[<matplotlib.axes._subplots.AxesSubplot object at 0x000001DCB2D8CE20>\n",
      " <matplotlib.axes._subplots.AxesSubplot object at 0x000001DCB2DA7250>\n",
      " <matplotlib.axes._subplots.AxesSubplot object at 0x000001DCB2DD3670>]\n"
     ]
    },
    {
     "data": {
      "image/png": "[encoded data removed]",
      "text/plain": [
       "<Figure size 1152x360 with 3 Axes>"
      ]
     },
     "metadata": {
      "needs_background": "light"
     },
     "output_type": "display_data"
    }
   ],
   "source": [
    "univariate_analysis(df['weight'])"
   ]
  },
  {
   "cell_type": "code",
   "execution_count": 8,
   "metadata": {},
   "outputs": [
    {
     "data": {
      "text/html": [
       "<div>\n",
       "<style scoped>\n",
       "    .dataframe tbody tr th:only-of-type {\n",
       "        vertical-align: middle;\n",
       "    }\n",
       "\n",
       "    .dataframe tbody tr th {\n",
       "        vertical-align: top;\n",
       "    }\n",
       "\n",
       "    .dataframe thead th {\n",
       "        text-align: right;\n",
       "    }\n",
       "</style>\n",
       "<table border=\"1\" class=\"dataframe\">\n",
       "  <thead>\n",
       "    <tr style=\"text-align: right;\">\n",
       "      <th></th>\n",
       "      <th>Age</th>\n",
       "      <th>Height</th>\n",
       "      <th>weight</th>\n",
       "      <th>BMI</th>\n",
       "      <th>Class</th>\n",
       "      <th>Prediction</th>\n",
       "    </tr>\n",
       "  </thead>\n",
       "  <tbody>\n",
       "    <tr>\n",
       "      <th>401</th>\n",
       "      <td>59</td>\n",
       "      <td>5.3</td>\n",
       "      <td>91</td>\n",
       "      <td>35</td>\n",
       "      <td>Obese</td>\n",
       "      <td>Obese--slow lean+protine+full dite -&gt;Overweight</td>\n",
       "    </tr>\n",
       "    <tr>\n",
       "      <th>479</th>\n",
       "      <td>39</td>\n",
       "      <td>5.5</td>\n",
       "      <td>64</td>\n",
       "      <td>23</td>\n",
       "      <td>Healthy</td>\n",
       "      <td>Healthy--fitness+protine+simple dite</td>\n",
       "    </tr>\n",
       "    <tr>\n",
       "      <th>258</th>\n",
       "      <td>37</td>\n",
       "      <td>5.1</td>\n",
       "      <td>68</td>\n",
       "      <td>22</td>\n",
       "      <td>Healthy</td>\n",
       "      <td>Healthy--fitness+protine+simple dite</td>\n",
       "    </tr>\n",
       "    <tr>\n",
       "      <th>599</th>\n",
       "      <td>57</td>\n",
       "      <td>5.8</td>\n",
       "      <td>73</td>\n",
       "      <td>24</td>\n",
       "      <td>Healthy</td>\n",
       "      <td>Healthy--fitness+protine+simple dite</td>\n",
       "    </tr>\n",
       "    <tr>\n",
       "      <th>1092</th>\n",
       "      <td>43</td>\n",
       "      <td>6.8</td>\n",
       "      <td>77</td>\n",
       "      <td>19</td>\n",
       "      <td>Healthy</td>\n",
       "      <td>Healthy--fitness+protine+simple dite</td>\n",
       "    </tr>\n",
       "  </tbody>\n",
       "</table>\n",
       "</div>"
      ],
      "text/plain": [
       "      Age  Height  weight  BMI     Class  \\\n",
       "401    59     5.3      91   35     Obese   \n",
       "479    39     5.5      64   23  Healthy    \n",
       "258    37     5.1      68   22  Healthy    \n",
       "599    57     5.8      73   24  Healthy    \n",
       "1092   43     6.8      77   19  Healthy    \n",
       "\n",
       "                                           Prediction  \n",
       "401   Obese--slow lean+protine+full dite ->Overweight  \n",
       "479              Healthy--fitness+protine+simple dite  \n",
       "258              Healthy--fitness+protine+simple dite  \n",
       "599              Healthy--fitness+protine+simple dite  \n",
       "1092             Healthy--fitness+protine+simple dite  "
      ]
     },
     "execution_count": 8,
     "metadata": {},
     "output_type": "execute_result"
    }
   ],
   "source": [
    "df.sample(5)"
   ]
  },
  {
   "cell_type": "code",
   "execution_count": 9,
   "metadata": {},
   "outputs": [
    {
     "name": "stdout",
     "output_type": "stream",
     "text": [
      "Counter({'Obese': 281, 'Under weight': 248, 'Healthy\\xa0': 232, 'Extremely obese': 212, 'Overweight': 199, 'EXtremely obese': 4})\n"
     ]
    },
    {
     "data": {
      "text/plain": [
       "Obese              281\n",
       "Under weight       248\n",
       "Healthy            232\n",
       "Extremely obese    212\n",
       "Overweight         199\n",
       "EXtremely obese      4\n",
       "Name: Class, dtype: int64"
      ]
     },
     "execution_count": 9,
     "metadata": {},
     "output_type": "execute_result"
    }
   ],
   "source": [
    "from collections import Counter\n",
    "count = Counter(df['Class'])\n",
    "print(count)\n",
    "df['Class'].value_counts()"
   ]
  },
  {
   "cell_type": "code",
   "execution_count": 10,
   "metadata": {},
   "outputs": [
    {
     "name": "stdout",
     "output_type": "stream",
     "text": [
      "Counter({'Obese--slow lean+protine+full dite ->Overweight': 281, 'Under weight--protines+carbs+normal weights ->Healthy': 248, 'Healthy--fitness+protine+simple dite': 232, 'Extremely obese--normal exercise+yoga+heavy dite control+TIPS ->Obese': 216, 'Overweight--lean+cardio+protine+normal dite ->Healthy': 199})\n"
     ]
    },
    {
     "data": {
      "text/plain": [
       "Obese--slow lean+protine+full dite ->Overweight                          281\n",
       "Under weight--protines+carbs+normal weights ->Healthy                    248\n",
       "Healthy--fitness+protine+simple dite                                     232\n",
       "Extremely obese--normal exercise+yoga+heavy dite control+TIPS ->Obese    216\n",
       "Overweight--lean+cardio+protine+normal dite ->Healthy                    199\n",
       "Name: Prediction, dtype: int64"
      ]
     },
     "execution_count": 10,
     "metadata": {},
     "output_type": "execute_result"
    }
   ],
   "source": [
    "count = Counter(df['Prediction'])\n",
    "print(count)\n",
    "df['Prediction'].value_counts()"
   ]
  },
  {
   "cell_type": "code",
   "execution_count": 11,
   "metadata": {},
   "outputs": [
    {
     "data": {
      "text/plain": [
       "Obese              281\n",
       "Under weight       248\n",
       "Healthy            232\n",
       "Extremely obese    216\n",
       "Overweight         199\n",
       "Name: Class, dtype: int64"
      ]
     },
     "execution_count": 11,
     "metadata": {},
     "output_type": "execute_result"
    }
   ],
   "source": [
    "df['Class'].replace(to_replace='EXtremely obese', value='Extremely obese', inplace=True)\n",
    "df['Class'].value_counts()"
   ]
  },
  {
   "cell_type": "code",
   "execution_count": 12,
   "metadata": {},
   "outputs": [
    {
     "data": {
      "text/plain": [
       "1176"
      ]
     },
     "execution_count": 12,
     "metadata": {},
     "output_type": "execute_result"
    }
   ],
   "source": [
    "df['Class'].size#.to_dict().keys()"
   ]
  },
  {
   "cell_type": "code",
   "execution_count": 13,
   "metadata": {},
   "outputs": [
    {
     "data": {
      "text/plain": [
       "array(['Extremely obese', 'Healthy\\xa0', 'Obese', 'Overweight',\n",
       "       'Under weight'], dtype=object)"
      ]
     },
     "execution_count": 13,
     "metadata": {},
     "output_type": "execute_result"
    }
   ],
   "source": [
    "b = df['Class'].unique()\n",
    "b"
   ]
  },
  {
   "cell_type": "code",
   "execution_count": 14,
   "metadata": {},
   "outputs": [
    {
     "data": {
      "text/plain": [
       "<seaborn.axisgrid.FacetGrid at 0x1dcb2eaeb80>"
      ]
     },
     "execution_count": 14,
     "metadata": {},
     "output_type": "execute_result"
    },
    {
     "data": {
      "image/png": "[encoded data removed]",
      "text/plain": [
       "<Figure size 1080x216 with 5 Axes>"
      ]
     },
     "metadata": {
      "needs_background": "light"
     },
     "output_type": "display_data"
    }
   ],
   "source": [
    "sns.FacetGrid(df , col='Class').map(plt.hist, 'Age')"
   ]
  },
  {
   "cell_type": "code",
   "execution_count": 15,
   "metadata": {},
   "outputs": [
    {
     "data": {
      "text/plain": [
       "<seaborn.axisgrid.FacetGrid at 0x1dcb2e94e80>"
      ]
     },
     "execution_count": 15,
     "metadata": {},
     "output_type": "execute_result"
    },
    {
     "data": {
      "image/png": "[encoded data removed]",
      "text/plain": [
       "<Figure size 1080x216 with 5 Axes>"
      ]
     },
     "metadata": {
      "needs_background": "light"
     },
     "output_type": "display_data"
    }
   ],
   "source": [
    "sns.FacetGrid(df , col='Class').map(plt.hist, 'Height')"
   ]
  },
  {
   "cell_type": "code",
   "execution_count": 16,
   "metadata": {},
   "outputs": [
    {
     "data": {
      "text/plain": [
       "<seaborn.axisgrid.FacetGrid at 0x1dcb218dbe0>"
      ]
     },
     "execution_count": 16,
     "metadata": {},
     "output_type": "execute_result"
    },
    {
     "data": {
      "image/png": "[encoded data removed]",
      "text/plain": [
       "<Figure size 1080x216 with 5 Axes>"
      ]
     },
     "metadata": {
      "needs_background": "light"
     },
     "output_type": "display_data"
    }
   ],
   "source": [
    "sns.FacetGrid(df , col='Class').map(plt.hist, 'weight')"
   ]
  },
  {
   "cell_type": "code",
   "execution_count": 17,
   "metadata": {},
   "outputs": [
    {
     "name": "stderr",
     "output_type": "stream",
     "text": [
      "C:\\Anaconda\\lib\\site-packages\\seaborn\\axisgrid.py:723: UserWarning: Using the boxplot function without specifying `order` is likely to produce an incorrect plot.\n",
      "  warnings.warn(warning)\n"
     ]
    },
    {
     "data": {
      "text/plain": [
       "<seaborn.axisgrid.FacetGrid at 0x1dcb2956d60>"
      ]
     },
     "execution_count": 17,
     "metadata": {},
     "output_type": "execute_result"
    },
    {
     "data": {
      "image/png": "[encoded data removed]",
      "text/plain": [
       "<Figure size 1080x216 with 5 Axes>"
      ]
     },
     "metadata": {
      "needs_background": "light"
     },
     "output_type": "display_data"
    }
   ],
   "source": [
    "sns.FacetGrid(df , col='Class').map(sns.boxplot, 'BMI')"
   ]
  },
  {
   "cell_type": "code",
   "execution_count": 18,
   "metadata": {},
   "outputs": [
    {
     "data": {
      "text/html": [
       "<div>\n",
       "<style scoped>\n",
       "    .dataframe tbody tr th:only-of-type {\n",
       "        vertical-align: middle;\n",
       "    }\n",
       "\n",
       "    .dataframe tbody tr th {\n",
       "        vertical-align: top;\n",
       "    }\n",
       "\n",
       "    .dataframe thead th {\n",
       "        text-align: right;\n",
       "    }\n",
       "</style>\n",
       "<table border=\"1\" class=\"dataframe\">\n",
       "  <thead>\n",
       "    <tr style=\"text-align: right;\">\n",
       "      <th></th>\n",
       "      <th>Age</th>\n",
       "      <th>Height</th>\n",
       "      <th>weight</th>\n",
       "      <th>BMI</th>\n",
       "      <th>Class</th>\n",
       "      <th>Prediction</th>\n",
       "    </tr>\n",
       "  </thead>\n",
       "  <tbody>\n",
       "    <tr>\n",
       "      <th>54</th>\n",
       "      <td>29</td>\n",
       "      <td>4.11</td>\n",
       "      <td>100</td>\n",
       "      <td>44</td>\n",
       "      <td>Extremely obese</td>\n",
       "      <td>Extremely obese--normal exercise+yoga+heavy di...</td>\n",
       "    </tr>\n",
       "    <tr>\n",
       "      <th>1123</th>\n",
       "      <td>57</td>\n",
       "      <td>6.80</td>\n",
       "      <td>64</td>\n",
       "      <td>15</td>\n",
       "      <td>Under weight</td>\n",
       "      <td>Under weight--protines+carbs+normal weights -&gt;...</td>\n",
       "    </tr>\n",
       "    <tr>\n",
       "      <th>1172</th>\n",
       "      <td>49</td>\n",
       "      <td>6.90</td>\n",
       "      <td>64</td>\n",
       "      <td>15</td>\n",
       "      <td>Under weight</td>\n",
       "      <td>Under weight--protines+carbs+normal weights -&gt;...</td>\n",
       "    </tr>\n",
       "    <tr>\n",
       "      <th>984</th>\n",
       "      <td>28</td>\n",
       "      <td>6.50</td>\n",
       "      <td>127</td>\n",
       "      <td>33</td>\n",
       "      <td>Obese</td>\n",
       "      <td>Obese--slow lean+protine+full dite -&gt;Overweight</td>\n",
       "    </tr>\n",
       "    <tr>\n",
       "      <th>455</th>\n",
       "      <td>57</td>\n",
       "      <td>5.40</td>\n",
       "      <td>68</td>\n",
       "      <td>26</td>\n",
       "      <td>Overweight</td>\n",
       "      <td>Overweight--lean+cardio+protine+normal dite -&gt;...</td>\n",
       "    </tr>\n",
       "  </tbody>\n",
       "</table>\n",
       "</div>"
      ],
      "text/plain": [
       "      Age  Height  weight  BMI            Class  \\\n",
       "54     29    4.11     100   44  Extremely obese   \n",
       "1123   57    6.80      64   15     Under weight   \n",
       "1172   49    6.90      64   15     Under weight   \n",
       "984    28    6.50     127   33            Obese   \n",
       "455    57    5.40      68   26       Overweight   \n",
       "\n",
       "                                             Prediction  \n",
       "54    Extremely obese--normal exercise+yoga+heavy di...  \n",
       "1123  Under weight--protines+carbs+normal weights ->...  \n",
       "1172  Under weight--protines+carbs+normal weights ->...  \n",
       "984     Obese--slow lean+protine+full dite ->Overweight  \n",
       "455   Overweight--lean+cardio+protine+normal dite ->...  "
      ]
     },
     "execution_count": 18,
     "metadata": {},
     "output_type": "execute_result"
    }
   ],
   "source": [
    "df.sample(5)"
   ]
  },
  {
   "cell_type": "code",
   "execution_count": 19,
   "metadata": {},
   "outputs": [
    {
     "data": {
      "text/html": [
       "<div>\n",
       "<style scoped>\n",
       "    .dataframe tbody tr th:only-of-type {\n",
       "        vertical-align: middle;\n",
       "    }\n",
       "\n",
       "    .dataframe tbody tr th {\n",
       "        vertical-align: top;\n",
       "    }\n",
       "\n",
       "    .dataframe thead th {\n",
       "        text-align: right;\n",
       "    }\n",
       "</style>\n",
       "<table border=\"1\" class=\"dataframe\">\n",
       "  <thead>\n",
       "    <tr style=\"text-align: right;\">\n",
       "      <th></th>\n",
       "      <th>Age</th>\n",
       "      <th>Height</th>\n",
       "      <th>weight</th>\n",
       "      <th>Prediction</th>\n",
       "    </tr>\n",
       "  </thead>\n",
       "  <tbody>\n",
       "    <tr>\n",
       "      <th>0</th>\n",
       "      <td>48</td>\n",
       "      <td>4.1</td>\n",
       "      <td>86</td>\n",
       "      <td>Extremely obese--normal exercise+yoga+heavy di...</td>\n",
       "    </tr>\n",
       "    <tr>\n",
       "      <th>1</th>\n",
       "      <td>53</td>\n",
       "      <td>4.1</td>\n",
       "      <td>91</td>\n",
       "      <td>Extremely obese--normal exercise+yoga+heavy di...</td>\n",
       "    </tr>\n",
       "    <tr>\n",
       "      <th>2</th>\n",
       "      <td>42</td>\n",
       "      <td>4.1</td>\n",
       "      <td>95</td>\n",
       "      <td>Extremely obese--normal exercise+yoga+heavy di...</td>\n",
       "    </tr>\n",
       "    <tr>\n",
       "      <th>3</th>\n",
       "      <td>48</td>\n",
       "      <td>4.1</td>\n",
       "      <td>100</td>\n",
       "      <td>Extremely obese--normal exercise+yoga+heavy di...</td>\n",
       "    </tr>\n",
       "    <tr>\n",
       "      <th>4</th>\n",
       "      <td>22</td>\n",
       "      <td>4.1</td>\n",
       "      <td>104</td>\n",
       "      <td>Extremely obese--normal exercise+yoga+heavy di...</td>\n",
       "    </tr>\n",
       "    <tr>\n",
       "      <th>...</th>\n",
       "      <td>...</td>\n",
       "      <td>...</td>\n",
       "      <td>...</td>\n",
       "      <td>...</td>\n",
       "    </tr>\n",
       "    <tr>\n",
       "      <th>1171</th>\n",
       "      <td>50</td>\n",
       "      <td>6.9</td>\n",
       "      <td>59</td>\n",
       "      <td>Under weight--protines+carbs+normal weights -&gt;...</td>\n",
       "    </tr>\n",
       "    <tr>\n",
       "      <th>1172</th>\n",
       "      <td>49</td>\n",
       "      <td>6.9</td>\n",
       "      <td>64</td>\n",
       "      <td>Under weight--protines+carbs+normal weights -&gt;...</td>\n",
       "    </tr>\n",
       "    <tr>\n",
       "      <th>1173</th>\n",
       "      <td>52</td>\n",
       "      <td>6.9</td>\n",
       "      <td>68</td>\n",
       "      <td>Under weight--protines+carbs+normal weights -&gt;...</td>\n",
       "    </tr>\n",
       "    <tr>\n",
       "      <th>1174</th>\n",
       "      <td>36</td>\n",
       "      <td>6.9</td>\n",
       "      <td>73</td>\n",
       "      <td>Under weight--protines+carbs+normal weights -&gt;...</td>\n",
       "    </tr>\n",
       "    <tr>\n",
       "      <th>1175</th>\n",
       "      <td>26</td>\n",
       "      <td>6.9</td>\n",
       "      <td>77</td>\n",
       "      <td>Under weight--protines+carbs+normal weights -&gt;...</td>\n",
       "    </tr>\n",
       "  </tbody>\n",
       "</table>\n",
       "<p>1176 rows × 4 columns</p>\n",
       "</div>"
      ],
      "text/plain": [
       "      Age  Height  weight                                         Prediction\n",
       "0      48     4.1      86  Extremely obese--normal exercise+yoga+heavy di...\n",
       "1      53     4.1      91  Extremely obese--normal exercise+yoga+heavy di...\n",
       "2      42     4.1      95  Extremely obese--normal exercise+yoga+heavy di...\n",
       "3      48     4.1     100  Extremely obese--normal exercise+yoga+heavy di...\n",
       "4      22     4.1     104  Extremely obese--normal exercise+yoga+heavy di...\n",
       "...   ...     ...     ...                                                ...\n",
       "1171   50     6.9      59  Under weight--protines+carbs+normal weights ->...\n",
       "1172   49     6.9      64  Under weight--protines+carbs+normal weights ->...\n",
       "1173   52     6.9      68  Under weight--protines+carbs+normal weights ->...\n",
       "1174   36     6.9      73  Under weight--protines+carbs+normal weights ->...\n",
       "1175   26     6.9      77  Under weight--protines+carbs+normal weights ->...\n",
       "\n",
       "[1176 rows x 4 columns]"
      ]
     },
     "execution_count": 19,
     "metadata": {},
     "output_type": "execute_result"
    }
   ],
   "source": [
    "data = df.copy(deep=True)\n",
    "del data['Class']\n",
    "del data['BMI']\n",
    "data"
   ]
  },
  {
   "cell_type": "code",
   "execution_count": 20,
   "metadata": {},
   "outputs": [
    {
     "name": "stdout",
     "output_type": "stream",
     "text": [
      "      Age  Height  weight\n",
      "0      48     4.1      86\n",
      "1      53     4.1      91\n",
      "2      42     4.1      95\n",
      "3      48     4.1     100\n",
      "4      22     4.1     104\n",
      "...   ...     ...     ...\n",
      "1171   50     6.9      59\n",
      "1172   49     6.9      64\n",
      "1173   52     6.9      68\n",
      "1174   36     6.9      73\n",
      "1175   26     6.9      77\n",
      "\n",
      "[1176 rows x 3 columns]\n"
     ]
    }
   ],
   "source": [
    "X = data.iloc[:,0:-1]\n",
    "y = data.iloc[:,-1]\n",
    "print(X)"
   ]
  },
  {
   "cell_type": "code",
   "execution_count": 21,
   "metadata": {},
   "outputs": [
    {
     "name": "stdout",
     "output_type": "stream",
     "text": [
      "(1058, 3)\n",
      "(118, 3)\n",
      "(1058,)\n",
      "(118,)\n"
     ]
    }
   ],
   "source": [
    "from sklearn.model_selection import train_test_split\n",
    "X_train , X_test , y_train , y_test = train_test_split(X,y, test_size = 0.1 , random_state = 0)\n",
    "\n",
    "print(X_train.shape)\n",
    "print(X_test.shape)\n",
    "print(y_train.shape)\n",
    "print(y_test.shape)"
   ]
  },
  {
   "cell_type": "markdown",
   "metadata": {},
   "source": [
    "# Model 1."
   ]
  },
  {
   "cell_type": "code",
   "execution_count": 22,
   "metadata": {},
   "outputs": [],
   "source": [
    "from sklearn.ensemble import RandomForestClassifier\n",
    " "
   ]
  },
  {
   "cell_type": "code",
   "execution_count": 27,
   "metadata": {},
   "outputs": [
    {
     "data": {
      "text/plain": [
       "('criterion',\n",
       " 'max_depth',\n",
       " 'min_samples_split',\n",
       " 'min_samples_leaf',\n",
       " 'min_weight_fraction_leaf',\n",
       " 'max_features',\n",
       " 'max_leaf_nodes',\n",
       " 'min_impurity_decrease',\n",
       " 'min_impurity_split',\n",
       " 'random_state',\n",
       " 'ccp_alpha')"
      ]
     },
     "execution_count": 27,
     "metadata": {},
     "output_type": "execute_result"
    }
   ],
   "source": [
    "clf.estimator_params"
   ]
  },
  {
   "cell_type": "code",
   "execution_count": 25,
   "metadata": {},
   "outputs": [
    {
     "data": {
      "text/plain": [
       "array(['Extremely obese--normal exercise+yoga+heavy dite control+TIPS ->Obese',\n",
       "       'Healthy--fitness+protine+simple dite',\n",
       "       'Obese--slow lean+protine+full dite ->Overweight',\n",
       "       'Overweight--lean+cardio+protine+normal dite ->Healthy',\n",
       "       'Under weight--protines+carbs+normal weights ->Healthy'],\n",
       "      dtype=object)"
      ]
     },
     "execution_count": 25,
     "metadata": {},
     "output_type": "execute_result"
    }
   ],
   "source": [
    "s = y.unique()\n",
    "s"
   ]
  },
  {
   "cell_type": "code",
   "execution_count": 26,
   "metadata": {},
   "outputs": [
    {
     "data": {
      "text/plain": [
       "RandomForestClassifier(class_weight={'Extremely obese--normal exercise+yoga+heavy dite control+TIPS ->Obese': 0.234,\n",
       "                                     'Healthy--fitness+protine+simple dite': 2.845,\n",
       "                                     'Obese--slow lean+protine+full dite ->Overweight': 0.734,\n",
       "                                     'Overweight--lean+cardio+protine+normal dite ->Healthy': 2.645,\n",
       "                                     'Under weight--protines+carbs+normal weights ->Healthy': 1.234},\n",
       "                       criterion='entropy', max_depth=12, max_features=2,\n",
       "                       n_estimators=400, n_jobs=-1, oob_score=True,\n",
       "                       random_state=42)"
      ]
     },
     "execution_count": 26,
     "metadata": {},
     "output_type": "execute_result"
    }
   ],
   "source": [
    "clf = RandomForestClassifier(oob_score=True , bootstrap=True,\n",
    "                            n_jobs=-1 , n_estimators = 400, max_features=2 , criterion='entropy', max_depth=12 ,\n",
    "                             class_weight={s[1]:2.845 , s[3]: 2.645 ,\n",
    "                                           s[2]:0.734, s[0]:0.234, s[4]: 1.234},\n",
    "                             \n",
    "                             random_state=42)\n",
    "clf.fit(X_train,y_train)"
   ]
  },
  {
   "cell_type": "code",
   "execution_count": 28,
   "metadata": {},
   "outputs": [
    {
     "name": "stdout",
     "output_type": "stream",
     "text": [
      "R^2 Training Score: 1.00 \n",
      "OOB Score: 0.86 \n",
      "R^2 Validation Score: 0.85\n",
      "0.847457627118644\n"
     ]
    }
   ],
   "source": [
    "\n",
    "predd = clf.predict(X_test)\n",
    "print('R^2 Training Score: {:.2f} \\nOOB Score: {:.2f} \\nR^2 Validation Score: {:.2f}'.format(clf.score(X_train, y_train), \n",
    "                                                                                             clf.oob_score_,\n",
    "                                                                                             clf.score(X_test, y_test)))\n",
    "from sklearn.metrics import accuracy_score\n",
    "acc = accuracy_score(y_test , predd)\n",
    "print(acc)"
   ]
  },
  {
   "cell_type": "code",
   "execution_count": 29,
   "metadata": {},
   "outputs": [
    {
     "data": {
      "text/plain": [
       "Obese--slow lean+protine+full dite ->Overweight                          281\n",
       "Under weight--protines+carbs+normal weights ->Healthy                    248\n",
       "Healthy--fitness+protine+simple dite                                     232\n",
       "Extremely obese--normal exercise+yoga+heavy dite control+TIPS ->Obese    216\n",
       "Overweight--lean+cardio+protine+normal dite ->Healthy                    199\n",
       "Name: Prediction, dtype: int64"
      ]
     },
     "execution_count": 29,
     "metadata": {},
     "output_type": "execute_result"
    }
   ],
   "source": [
    "y.value_counts()"
   ]
  },
  {
   "cell_type": "code",
   "execution_count": 30,
   "metadata": {},
   "outputs": [
    {
     "name": "stdout",
     "output_type": "stream",
     "text": [
      "Obese--slow lean+protine+full dite ->Overweight                          258\n",
      "Under weight--protines+carbs+normal weights ->Healthy                    217\n",
      "Healthy--fitness+protine+simple dite                                     206\n",
      "Extremely obese--normal exercise+yoga+heavy dite control+TIPS ->Obese    201\n",
      "Overweight--lean+cardio+protine+normal dite ->Healthy                    176\n",
      "Name: Prediction, dtype: int64\n",
      "--------------\n",
      "Under weight--protines+carbs+normal weights ->Healthy                    31\n",
      "Healthy--fitness+protine+simple dite                                     26\n",
      "Overweight--lean+cardio+protine+normal dite ->Healthy                    23\n",
      "Obese--slow lean+protine+full dite ->Overweight                          23\n",
      "Extremely obese--normal exercise+yoga+heavy dite control+TIPS ->Obese    15\n",
      "Name: Prediction, dtype: int64\n"
     ]
    }
   ],
   "source": [
    "print(y_train.value_counts())\n",
    "print('--------------')\n",
    "print(y_test.value_counts())"
   ]
  },
  {
   "cell_type": "code",
   "execution_count": 31,
   "metadata": {},
   "outputs": [
    {
     "name": "stdout",
     "output_type": "stream",
     "text": [
      "                                                                       precision    recall  f1-score   support\n",
      "\n",
      "Extremely obese--normal exercise+yoga+heavy dite control+TIPS ->Obese       0.88      0.93      0.90        15\n",
      "                                 Healthy--fitness+protine+simple dite       0.79      0.73      0.76        26\n",
      "                      Obese--slow lean+protine+full dite ->Overweight       0.90      0.83      0.86        23\n",
      "                Overweight--lean+cardio+protine+normal dite ->Healthy       0.75      0.78      0.77        23\n",
      "                Under weight--protines+carbs+normal weights ->Healthy       0.91      0.97      0.94        31\n",
      "\n",
      "                                                             accuracy                           0.85       118\n",
      "                                                            macro avg       0.85      0.85      0.85       118\n",
      "                                                         weighted avg       0.85      0.85      0.85       118\n",
      "\n"
     ]
    },
    {
     "data": {
      "text/plain": [
       "array([[14,  0,  1,  0,  0],\n",
       "       [ 0, 19,  0,  4,  3],\n",
       "       [ 2,  0, 19,  2,  0],\n",
       "       [ 0,  4,  1, 18,  0],\n",
       "       [ 0,  1,  0,  0, 30]], dtype=int64)"
      ]
     },
     "execution_count": 31,
     "metadata": {},
     "output_type": "execute_result"
    }
   ],
   "source": [
    "from sklearn import metrics\n",
    "print(metrics.classification_report(y_test, predd))\n",
    "metrics.confusion_matrix(y_test, predd)\n"
   ]
  },
  {
   "cell_type": "code",
   "execution_count": 32,
   "metadata": {},
   "outputs": [
    {
     "name": "stdout",
     "output_type": "stream",
     "text": [
      "Accuracy Mean 0.8440107310529846 Accuracy Variance      0.051774887610341075\n"
     ]
    },
    {
     "data": {
      "text/plain": [
       "array([0.90140845, 0.85915493, 0.77464789, 0.87323944, 0.87323944,\n",
       "       0.8028169 , 0.85915493, 0.84507042, 0.77142857, 0.81428571,\n",
       "       0.9       , 0.9       , 0.87142857, 0.88571429, 0.72857143])"
      ]
     },
     "execution_count": 32,
     "metadata": {},
     "output_type": "execute_result"
    }
   ],
   "source": [
    "from sklearn.model_selection import cross_val_score \n",
    "accuracies = cross_val_score(estimator = clf, X = X_train,\\\n",
    "     y = y_train, cv = 15)\n",
    "print(\"Accuracy Mean {} Accuracy Variance \\\n",
    "     {}\".format(accuracies.mean(),accuracies.std()))\n",
    "accuracies"
   ]
  },
  {
   "cell_type": "code",
   "execution_count": 291,
   "metadata": {},
   "outputs": [
    {
     "name": "stdout",
     "output_type": "stream",
     "text": [
      "['Healthy--fitness+protine+simple dite']\n"
     ]
    }
   ],
   "source": [
    "# We don't use it ...\n",
    "import pickle\n",
    "\n",
    "pickle.dump(clf, open(\"Ali_GYM.pkl\", \"wb\"))\n",
    "\n",
    "model = pickle.load(open(\"Ali_GYM.pkl\", \"rb\"))\n",
    "\n",
    "print(model.predict([[40,5.6,70]]))\n"
   ]
  },
  {
   "cell_type": "code",
   "execution_count": 33,
   "metadata": {},
   "outputs": [],
   "source": [
    "import pickle\n",
    "with open('Ali-gym-diet.pkl', 'wb') as f:\n",
    "    pickle.dump(clf, f)\n"
   ]
  },
  {
   "cell_type": "code",
   "execution_count": 34,
   "metadata": {},
   "outputs": [],
   "source": [
    "with open('Ali-gym-diet.pkl', 'rb') as f:\n",
    "    clf_loaded = pickle.load(f)\n"
   ]
  },
  {
   "cell_type": "code",
   "execution_count": 35,
   "metadata": {},
   "outputs": [
    {
     "data": {
      "text/plain": [
       "RandomForestClassifier(class_weight={'Extremely obese--normal exercise+yoga+heavy dite control+TIPS ->Obese': 0.234,\n",
       "                                     'Healthy--fitness+protine+simple dite': 2.845,\n",
       "                                     'Obese--slow lean+protine+full dite ->Overweight': 0.734,\n",
       "                                     'Overweight--lean+cardio+protine+normal dite ->Healthy': 2.645,\n",
       "                                     'Under weight--protines+carbs+normal weights ->Healthy': 1.234},\n",
       "                       criterion='entropy', max_depth=12, max_features=2,\n",
       "                       n_estimators=400, n_jobs=-1, oob_score=True,\n",
       "                       random_state=42)"
      ]
     },
     "execution_count": 35,
     "metadata": {},
     "output_type": "execute_result"
    }
   ],
   "source": [
    "clf_loaded"
   ]
  },
  {
   "cell_type": "code",
   "execution_count": 37,
   "metadata": {},
   "outputs": [
    {
     "name": "stdout",
     "output_type": "stream",
     "text": [
      "['Healthy--fitness+protine+simple dite']\n"
     ]
    }
   ],
   "source": [
    "print(clf_loaded.predict([[20,5.9,59]]))"
   ]
  },
  {
   "cell_type": "code",
   "execution_count": null,
   "metadata": {},
   "outputs": [],
   "source": []
  }
 ],
 "metadata": {
  "kernelspec": {
   "display_name": "Python 3",
   "language": "python",
   "name": "python3"
  },
  "language_info": {
   "codemirror_mode": {
    "name": "ipython",
    "version": 3
   },
   "file_extension": ".py",
   "mimetype": "text/x-python",
   "name": "python",
   "nbconvert_exporter": "python",
   "pygments_lexer": "ipython3",
   "version": "3.8.3"
  }
 },
 "nbformat": 4,
 "nbformat_minor": 4
}
